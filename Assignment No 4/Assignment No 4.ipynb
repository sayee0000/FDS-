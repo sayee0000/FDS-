{
 "cells": [
  {
   "cell_type": "code",
   "execution_count": 2,
   "id": "499dfe39",
   "metadata": {},
   "outputs": [
    {
     "name": "stdout",
     "output_type": "stream",
     "text": [
      "\n",
      "Without Using Inbuilt Functions:\n",
      "Range: 27\n",
      "Variance: 78.4\n",
      "Standard Deviation: 8.854377448471462\n"
     ]
    }
   ],
   "source": [
    "# Program to calculate Range, Variance, and Standard Deviation without using inbuilt functions\n",
    "\n",
    "data = [78, 65, 80, 92, 85, 75, 88, 90, 70, 85]\n",
    "\n",
    "# Range\n",
    "def calculate_range(data):\n",
    "    return max(data) - min(data)\n",
    "\n",
    "# Variance\n",
    "def calculate_variance(data):\n",
    "    mean = sum(data) / len(data)\n",
    "    squared_diffs = [(x - mean) ** 2 for x in data]\n",
    "    variance = sum(squared_diffs) / (len(data) - 1)  # sample variance\n",
    "    return variance\n",
    "\n",
    "# 3Standard Deviation\n",
    "def calculate_std_dev(data):\n",
    "    variance = calculate_variance(data)\n",
    "    return variance ** 0.5\n",
    "\n",
    "print(\"\\nWithout Using Inbuilt Functions:\")\n",
    "print(\"Range:\", calculate_range(data))\n",
    "print(\"Variance:\", calculate_variance(data))\n",
    "print(\"Standard Deviation:\", calculate_std_dev(data))\n"
   ]
  },
  {
   "cell_type": "code",
   "execution_count": 1,
   "id": "380d6505",
   "metadata": {},
   "outputs": [
    {
     "name": "stdout",
     "output_type": "stream",
     "text": [
      "Using Inbuilt Functions:\n",
      "Range: 27\n",
      "Variance: 78.4\n",
      "Standard Deviation: 8.854377448471462\n"
     ]
    }
   ],
   "source": [
    "# Program to calculate Range, Variance, and Standard Deviation using inbuilt functions\n",
    "\n",
    "import statistics as stats\n",
    "\n",
    "data = [78, 65, 80, 92, 85, 75, 88, 90, 70, 85]\n",
    "\n",
    "# Range\n",
    "range_value = max(data) - min(data)\n",
    "\n",
    "# Variance\n",
    "variance_value = stats.variance(data)\n",
    "\n",
    "# Standard Deviation\n",
    "std_dev_value = stats.stdev(data)\n",
    "\n",
    "print(\"Using Inbuilt Functions:\")\n",
    "print(\"Range:\", range_value)\n",
    "print(\"Variance:\", variance_value)\n",
    "print(\"Standard Deviation:\", std_dev_value)\n"
   ]
  },
  {
   "cell_type": "code",
   "execution_count": null,
   "id": "51f3f4a4",
   "metadata": {},
   "outputs": [],
   "source": [
    "#Example"
   ]
  },
  {
   "cell_type": "code",
   "execution_count": 3,
   "id": "2c49d737",
   "metadata": {},
   "outputs": [],
   "source": [
    "import pandas as pd\n",
    "\n",
    "\n",
    "data=pd.read_csv(r\"C:\\Users\\91735\\Downloads\\student_marks.csv\")\n",
    "df=pd.DataFrame(data)"
   ]
  },
  {
   "cell_type": "code",
   "execution_count": 4,
   "id": "c8145810",
   "metadata": {},
   "outputs": [],
   "source": [
    "list=df['Marks'].tolist()"
   ]
  },
  {
   "cell_type": "code",
   "execution_count": 5,
   "id": "3ec00ab0",
   "metadata": {},
   "outputs": [
    {
     "name": "stdout",
     "output_type": "stream",
     "text": [
      "Using Inbuilt Functions:\n",
      "Range: 27\n",
      "Variance: 78.4\n",
      "Standard Deviation: 8.854377448471462\n"
     ]
    }
   ],
   "source": [
    "# Program to calculate Range, Variance, and Standard Deviation using inbuilt functions\n",
    "\n",
    "import statistics as stats\n",
    "\n",
    "# Range\n",
    "range_value = max(list) - min(list)\n",
    "\n",
    "# Variance\n",
    "variance_value = stats.variance(list)\n",
    "\n",
    "# Standard Deviation\n",
    "std_dev_value = stats.stdev(list)\n",
    "\n",
    "print(\"Using Inbuilt Functions:\")\n",
    "print(\"Range:\", range_value)\n",
    "print(\"Variance:\", variance_value)\n",
    "print(\"Standard Deviation:\", std_dev_value)\n"
   ]
  },
  {
   "cell_type": "code",
   "execution_count": 7,
   "id": "253c4e42",
   "metadata": {},
   "outputs": [
    {
     "name": "stdout",
     "output_type": "stream",
     "text": [
      "\n",
      "Without Using Inbuilt Functions:\n",
      "Range: 27\n",
      "Variance: 78.4\n",
      "Standard Deviation: 8.854377448471462\n"
     ]
    }
   ],
   "source": [
    "# Program to calculate Range, Variance, and Standard Deviation without using inbuilt functions\n",
    "\n",
    "# Range\n",
    "def calculate_range(list):\n",
    "    return max(list) - min(list)\n",
    "\n",
    "# Variance\n",
    "def calculate_variance(list):\n",
    "    mean = sum(list) / len(list)\n",
    "    squared_diffs = [(x - mean) ** 2 for x in list]\n",
    "    variance = sum(squared_diffs) / (len(list) - 1)  # sample variance\n",
    "    return variance\n",
    "\n",
    "# Standard Deviation\n",
    "def calculate_std_dev(list):\n",
    "    variance = calculate_variance(list)\n",
    "    return variance ** 0.5\n",
    "\n",
    "print(\"\\nWithout Using Inbuilt Functions:\")\n",
    "print(\"Range:\", calculate_range(list))\n",
    "print(\"Variance:\", calculate_variance(list))\n",
    "print(\"Standard Deviation:\", calculate_std_dev(list))\n"
   ]
  }
 ],
 "metadata": {
  "kernelspec": {
   "display_name": "Python 3 (ipykernel)",
   "language": "python",
   "name": "python3"
  },
  "language_info": {
   "codemirror_mode": {
    "name": "ipython",
    "version": 3
   },
   "file_extension": ".py",
   "mimetype": "text/x-python",
   "name": "python",
   "nbconvert_exporter": "python",
   "pygments_lexer": "ipython3",
   "version": "3.11.5"
  }
 },
 "nbformat": 4,
 "nbformat_minor": 5
}
