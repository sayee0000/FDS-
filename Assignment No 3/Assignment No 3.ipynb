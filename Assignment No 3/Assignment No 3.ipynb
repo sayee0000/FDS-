{
 "cells": [
  {
   "cell_type": "code",
   "execution_count": null,
   "id": "730bfe57",
   "metadata": {},
   "outputs": [],
   "source": [
    "#Name : Sayee Deshmukh\n",
    "#Class : TY IT A\n",
    "#Title : Assignment based on the calculationn of the central tendancy measures"
   ]
  },
  {
   "cell_type": "code",
   "execution_count": null,
   "id": "625b060b",
   "metadata": {},
   "outputs": [],
   "source": [
    "# calculating mean#,median,mode without using inbuilt function"
   ]
  },
  {
   "cell_type": "code",
   "execution_count": 16,
   "id": "f81bf5ec",
   "metadata": {},
   "outputs": [
    {
     "name": "stdout",
     "output_type": "stream",
     "text": [
      "Mean:-  4.333333333333333\n",
      "Median:-  4\n",
      "Mode:-  [3]\n"
     ]
    }
   ],
   "source": [
    "data=[2,3,4,5,6,2,7,8,3,3,4,9,4,3,2]\n",
    "\n",
    "#mean\n",
    "def mean(data):\n",
    "    mean=sum(data)/len(data)\n",
    "    return mean\n",
    "\n",
    "#median\n",
    "def median(data):\n",
    "    updated_list_in_decending_order=sorted(data)\n",
    "    length=len(updated_list_in_decending_order)\n",
    "    mid=length//2\n",
    "    if(length%2==0):\n",
    "        med = (updated_list_in_decending_order[mid-1]+updated_list_in_decending_order[mid])/2\n",
    "    else:\n",
    "        med=updated_list_in_decending_order[mid]\n",
    "\n",
    "    return med    \n",
    "\n",
    "#mode\n",
    "def mode(data):\n",
    "    freq={}\n",
    "    for i in (data):\n",
    "        freq[i]=freq.get(i,0)+1\n",
    "    max_freq=max(freq.values())\n",
    "    mode_list = [key for key, value in freq.items() if value == max_freq]\n",
    "    return mode_list\n",
    "\n",
    "\n",
    "print(\"Mean:- \",mean(data))\n",
    "print(\"Median:- \",median(data))\n",
    "print(\"Mode:- \",mode(data))\n",
    "\n",
    "\n",
    "        \n"
   ]
  },
  {
   "cell_type": "code",
   "execution_count": null,
   "id": "e589cec5",
   "metadata": {},
   "outputs": [],
   "source": [
    "# calculating mean#,median,mode with using inbuilt library"
   ]
  },
  {
   "cell_type": "code",
   "execution_count": 18,
   "id": "ed0308ed",
   "metadata": {},
   "outputs": [
    {
     "name": "stdout",
     "output_type": "stream",
     "text": [
      "Mean:-  4.333333333333333\n",
      "Median:-  4\n",
      "Mode:-  3\n"
     ]
    }
   ],
   "source": [
    "import statistics as stats\n",
    "\n",
    "data=[2,3,4,5,6,2,7,8,3,3,4,9,4,3,2]\n",
    "\n",
    "\n",
    "#mean\n",
    "mean=stats.mean(data)\n",
    "\n",
    "#median\n",
    "median=stats.median(data)\n",
    "\n",
    "#mode\n",
    "mode=stats.mode(data)\n",
    "\n",
    "print(\"Mean:- \",mean)\n",
    "print(\"Median:- \",median)\n",
    "print(\"Mode:- \",mode)\n"
   ]
  },
  {
   "cell_type": "code",
   "execution_count": null,
   "id": "6a7c3678",
   "metadata": {},
   "outputs": [],
   "source": []
  },
  {
   "cell_type": "code",
   "execution_count": null,
   "id": "4672362a",
   "metadata": {},
   "outputs": [],
   "source": []
  },
  {
   "cell_type": "code",
   "execution_count": null,
   "id": "fe12cdcd",
   "metadata": {},
   "outputs": [],
   "source": []
  },
  {
   "cell_type": "code",
   "execution_count": null,
   "id": "f3be6bcd",
   "metadata": {},
   "outputs": [],
   "source": []
  },
  {
   "cell_type": "code",
   "execution_count": null,
   "id": "bab4166f",
   "metadata": {},
   "outputs": [],
   "source": []
  },
  {
   "cell_type": "code",
   "execution_count": null,
   "id": "d5a28aab",
   "metadata": {},
   "outputs": [],
   "source": []
  },
  {
   "cell_type": "code",
   "execution_count": null,
   "id": "b05e57c7",
   "metadata": {},
   "outputs": [],
   "source": []
  }
 ],
 "metadata": {
  "kernelspec": {
   "display_name": "Python 3 (ipykernel)",
   "language": "python",
   "name": "python3"
  },
  "language_info": {
   "codemirror_mode": {
    "name": "ipython",
    "version": 3
   },
   "file_extension": ".py",
   "mimetype": "text/x-python",
   "name": "python",
   "nbconvert_exporter": "python",
   "pygments_lexer": "ipython3",
   "version": "3.11.5"
  }
 },
 "nbformat": 4,
 "nbformat_minor": 5
}
