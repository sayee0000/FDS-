{
 "cells": [
  {
   "cell_type": "code",
   "execution_count": null,
   "id": "542c1907",
   "metadata": {},
   "outputs": [],
   "source": [
    "#Name:- Sayee Deshmukh\n",
    "#Roll No:- 34\n",
    "#Batch:- T2\n",
    "#Assignment Title:- "
   ]
  },
  {
   "cell_type": "code",
   "execution_count": 5,
   "id": "f595cf4f",
   "metadata": {},
   "outputs": [],
   "source": [
    "#import numpy library\n",
    "import numpy as np"
   ]
  },
  {
   "cell_type": "code",
   "execution_count": 48,
   "id": "2d40c1ed",
   "metadata": {},
   "outputs": [
    {
     "name": "stdout",
     "output_type": "stream",
     "text": [
      "Array:-  [1 2 3 4]\n",
      "Dimensions:-  1\n",
      "Size of the array:-  4\n",
      "Shape of the array:-  (4,)\n",
      "Maximum value in array:-  4\n",
      "Maximum value in array:-  1\n",
      "Reshaping the array:- \n",
      " [[1 2]\n",
      " [3 4]]\n",
      "\n",
      "\n",
      "Array:-\n",
      " [[1 2 3]\n",
      " [4 5 6]\n",
      " [7 8 9]]\n",
      "Dimensions of the array:-  2\n",
      "Size of the array:-  9\n",
      "Shape of the array:-  (3, 3)\n",
      "Maximum value in array:-  9\n",
      "Maximum value in array:-  1\n",
      "Reshaping the array:- \n",
      " [[1]\n",
      " [2]\n",
      " [3]\n",
      " [4]\n",
      " [5]\n",
      " [6]\n",
      " [7]\n",
      " [8]\n",
      " [9]]\n",
      "Reshaping the array:- \n",
      " [1 2 3 4 5 6 7 8 9]\n",
      "Reshaping the array:- \n",
      " [[[1]\n",
      "  [2]\n",
      "  [3]]\n",
      "\n",
      " [[4]\n",
      "  [5]\n",
      "  [6]]\n",
      "\n",
      " [[7]\n",
      "  [8]\n",
      "  [9]]]\n",
      "Reshaping the array:- \n",
      " [[[1 2 3]]\n",
      "\n",
      " [[4 5 6]]\n",
      "\n",
      " [[7 8 9]]]\n"
     ]
    }
   ],
   "source": [
    "#Array attributes\n",
    "\n",
    "# 1 dimensional array\n",
    "arr=np.array([1,2,3,4]);\n",
    "print(\"Array:- \",arr);\n",
    "print(\"Dimensions:- \",arr.ndim);\n",
    "print(\"Size of the array:- \",arr.size);\n",
    "print(\"Shape of the array:- \",arr.shape);\n",
    "print(\"Maximum value in array:- \",np.max(arr));\n",
    "print(\"Maximum value in array:- \",np.min(arr));\n",
    "print(\"Reshaping the array:- \\n\",arr.reshape(2,2));\n",
    "\n",
    "print(\"\\n\");\n",
    "\n",
    "# 2 dimensional array\n",
    "arr2=np.array([[1,2,3],[4,5,6],[7,8,9]]);\n",
    "print(\"Array:-\\n\",arr2);\n",
    "print(\"Dimensions of the array:- \",arr2.ndim);\n",
    "print(\"Size of the array:- \",arr2.size);\n",
    "print(\"Shape of the array:- \",arr2.shape);\n",
    "print(\"Maximum value in array:- \",np.max(arr2));\n",
    "print(\"Maximum value in array:- \",np.min(arr2));\n",
    "print(\"Reshaping the array:- \\n\",arr2.reshape(9,1));\n",
    "print(\"Reshaping the array:- \\n\",arr2.reshape(9));\n",
    "print(\"Reshaping the array:- \\n\",arr2.reshape(3,3,1));\n",
    "print(\"Reshaping the array:- \\n\",arr2.reshape(3,1,3));\n"
   ]
  },
  {
   "cell_type": "code",
   "execution_count": 58,
   "id": "3f7d767e",
   "metadata": {},
   "outputs": [
    {
     "name": "stdout",
     "output_type": "stream",
     "text": [
      "2\n",
      "4\n",
      "[1 2 3]\n",
      "\n",
      "\n",
      "1\n",
      "7\n"
     ]
    }
   ],
   "source": [
    "#Array Indexing of 1D array\n",
    "print(arr[1]);\n",
    "print(arr[-1]);\n",
    "print(arr[:3]);\n",
    "print\n",
    "\n",
    "print(\"\\n\");\n",
    "\n",
    "#Array indexing of 2D array\n",
    "print(arr2[0,0]);\n",
    "print(arr2[-1,0]);\n",
    "\n"
   ]
  },
  {
   "cell_type": "code",
   "execution_count": null,
   "id": "d7bee5ea",
   "metadata": {},
   "outputs": [],
   "source": []
  },
  {
   "cell_type": "code",
   "execution_count": null,
   "id": "43df205c",
   "metadata": {},
   "outputs": [],
   "source": []
  },
  {
   "cell_type": "code",
   "execution_count": null,
   "id": "1f7a654f",
   "metadata": {},
   "outputs": [],
   "source": []
  },
  {
   "cell_type": "code",
   "execution_count": null,
   "id": "765ae58f",
   "metadata": {},
   "outputs": [],
   "source": []
  },
  {
   "cell_type": "code",
   "execution_count": null,
   "id": "82eab94c",
   "metadata": {},
   "outputs": [],
   "source": []
  },
  {
   "cell_type": "code",
   "execution_count": null,
   "id": "11271e4d",
   "metadata": {},
   "outputs": [],
   "source": []
  },
  {
   "cell_type": "code",
   "execution_count": null,
   "id": "419a8b7d",
   "metadata": {},
   "outputs": [],
   "source": []
  },
  {
   "cell_type": "code",
   "execution_count": null,
   "id": "74baa250",
   "metadata": {},
   "outputs": [],
   "source": []
  }
 ],
 "metadata": {
  "kernelspec": {
   "display_name": "Python 3 (ipykernel)",
   "language": "python",
   "name": "python3"
  },
  "language_info": {
   "codemirror_mode": {
    "name": "ipython",
    "version": 3
   },
   "file_extension": ".py",
   "mimetype": "text/x-python",
   "name": "python",
   "nbconvert_exporter": "python",
   "pygments_lexer": "ipython3",
   "version": "3.11.5"
  }
 },
 "nbformat": 4,
 "nbformat_minor": 5
}
