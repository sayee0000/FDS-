{
 "cells": [
  {
   "cell_type": "code",
   "execution_count": 67,
   "id": "5afac168",
   "metadata": {},
   "outputs": [
    {
     "name": "stdout",
     "output_type": "stream",
     "text": [
      "[0. 0. 0. 0. 0. 0. 0. 0. 0. 0.]\n",
      "float64\n",
      "[0 0 0 0 0 0 0 0 0 0]\n",
      "int32\n"
     ]
    }
   ],
   "source": [
    "#print datatype of array and change its datatype and print again \n",
    "\n",
    "import numpy as np\n",
    "arr = np.zeros(10);\n",
    "print(arr);\n",
    "print(arr.dtype);\n",
    "arr = np.zeros(10,dtype=int);\n",
    "print(arr);\n",
    "print(arr.dtype);\n"
   ]
  },
  {
   "cell_type": "code",
   "execution_count": 62,
   "id": "75e059ae",
   "metadata": {
    "scrolled": true
   },
   "outputs": [
    {
     "name": "stdout",
     "output_type": "stream",
     "text": [
      "[[ 1  2  3  8]\n",
      " [ 1  2  3 49]\n",
      " [ 1  2  3  4]]\n",
      "shape of array is:- (3, 4)\n",
      "dimensions of the array is:- 2\n"
     ]
    }
   ],
   "source": [
    "arr=np.array([(1,2,3,8),(1,2,3,49),(1,2,3,4)]);\n",
    "print(arr);\n",
    "print(\"shape of array is:-\" ,arr.shape);\n",
    "print(\"dimensions of the array is:-\", arr.ndim)"
   ]
  },
  {
   "cell_type": "code",
   "execution_count": 59,
   "id": "f5d4ebf7",
   "metadata": {},
   "outputs": [
    {
     "name": "stdout",
     "output_type": "stream",
     "text": [
      "swapped array is:- \n",
      " [[ 1  1  1]\n",
      " [ 2  2  2]\n",
      " [ 3  3  3]\n",
      " [ 8 49  4]]\n"
     ]
    }
   ],
   "source": [
    "#swap function \n",
    "\n",
    "swap=np.swapaxes(arr,0,1);\n",
    "print(\"swapped array is:- \\n\",swap);"
   ]
  },
  {
   "cell_type": "code",
   "execution_count": 60,
   "id": "1b94e726",
   "metadata": {},
   "outputs": [
    {
     "name": "stdout",
     "output_type": "stream",
     "text": [
      "49\n"
     ]
    }
   ],
   "source": [
    "#max function \n",
    "\n",
    "maximum=arr.max();\n",
    "print(maximum);"
   ]
  },
  {
   "cell_type": "code",
   "execution_count": 61,
   "id": "e952f34b",
   "metadata": {},
   "outputs": [
    {
     "name": "stdout",
     "output_type": "stream",
     "text": [
      "[[ 1  2  3]\n",
      " [ 8  1  2]\n",
      " [ 3 49  1]\n",
      " [ 2  3  4]]\n"
     ]
    }
   ],
   "source": [
    "#reshape function\n",
    "\n",
    "reshape=arr.reshape(4,3);\n",
    "print(reshape);"
   ]
  },
  {
   "cell_type": "code",
   "execution_count": 64,
   "id": "77da2c9a",
   "metadata": {},
   "outputs": [
    {
     "ename": "AttributeError",
     "evalue": "'numpy.ndarray' object has no attribute 'linspace'",
     "output_type": "error",
     "traceback": [
      "\u001b[1;31m---------------------------------------------------------------------------\u001b[0m",
      "\u001b[1;31mAttributeError\u001b[0m                            Traceback (most recent call last)",
      "Cell \u001b[1;32mIn[64], line 3\u001b[0m\n\u001b[0;32m      1\u001b[0m \u001b[38;5;66;03m#linespace function\u001b[39;00m\n\u001b[1;32m----> 3\u001b[0m lines\u001b[38;5;241m=\u001b[39marr\u001b[38;5;241m.\u001b[39mlinspace()\n\u001b[0;32m      4\u001b[0m \u001b[38;5;28mprint\u001b[39m(lines)\n",
      "\u001b[1;31mAttributeError\u001b[0m: 'numpy.ndarray' object has no attribute 'linspace'"
     ]
    }
   ],
   "source": [
    "#linspace function\n",
    "\n",
    "lines=arr.linspace()\n",
    "print(lines);"
   ]
  },
  {
   "cell_type": "code",
   "execution_count": null,
   "id": "e1dd3d6c",
   "metadata": {},
   "outputs": [],
   "source": [
    "#sort(axis=0 and axis=1)\n",
    "\n"
   ]
  }
 ],
 "metadata": {
  "kernelspec": {
   "display_name": "Python 3 (ipykernel)",
   "language": "python",
   "name": "python3"
  },
  "language_info": {
   "codemirror_mode": {
    "name": "ipython",
    "version": 3
   },
   "file_extension": ".py",
   "mimetype": "text/x-python",
   "name": "python",
   "nbconvert_exporter": "python",
   "pygments_lexer": "ipython3",
   "version": "3.11.5"
  }
 },
 "nbformat": 4,
 "nbformat_minor": 5
}
