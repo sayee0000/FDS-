{
 "cells": [
  {
   "cell_type": "code",
   "execution_count": 1,
   "id": "2badaea3",
   "metadata": {},
   "outputs": [],
   "source": [
    "#Name:- Sayee Deshmukh\n",
    "#Roll No:- 34\n",
    "#Batch:- T2\n",
    "#Assignment Title:- "
   ]
  },
  {
   "cell_type": "code",
   "execution_count": 3,
   "id": "0d98c45f",
   "metadata": {},
   "outputs": [
    {
     "name": "stdout",
     "output_type": "stream",
     "text": [
      "   EmpID        Name  Age  Gender Department   Salary JoiningDate  \\\n",
      "0      1  Employee_1   50  Female      Sales  90000.0  2015-01-01   \n",
      "1      2  Employee_2   36    Male    Finance  62500.0  2015-01-02   \n",
      "2      3  Employee_3   29    Male    Finance  39500.0  2015-01-03   \n",
      "3      4  Employee_4   42    Male      Sales  35000.0  2015-01-04   \n",
      "4      5  Employee_5   40    Male    Finance  41500.0  2015-01-05   \n",
      "\n",
      "   PerformanceScore  WorkHours  \n",
      "0               3.0       43.0  \n",
      "1               2.0       54.0  \n",
      "2               1.0       54.0  \n",
      "3               4.0       37.0  \n",
      "4               4.0       37.0  \n"
     ]
    }
   ],
   "source": [
    "import pandas as pd\n",
    "\n",
    "#Load Dataset\n",
    "df = pd.read_csv(r\"C:\\Users\\91735\\Downloads/employee_dataset.csv\")\n",
    "print(df.head())"
   ]
  },
  {
   "cell_type": "code",
   "execution_count": 2,
   "id": "365119b5",
   "metadata": {},
   "outputs": [
    {
     "name": "stdout",
     "output_type": "stream",
     "text": [
      "EmpID                 0\n",
      "Name                  0\n",
      "Age                   0\n",
      "Gender                0\n",
      "Department            0\n",
      "Salary                5\n",
      "JoiningDate           0\n",
      "PerformanceScore    177\n",
      "WorkHours            37\n",
      "dtype: int64\n"
     ]
    }
   ],
   "source": [
    "# Check missing values\n",
    "print(df.isnull().sum())"
   ]
  },
  {
   "cell_type": "code",
   "execution_count": 3,
   "id": "d2a243da",
   "metadata": {},
   "outputs": [],
   "source": [
    "# Fill numeric NaNs with mean\n",
    "df.fillna(df.mean(numeric_only=True), inplace=True)"
   ]
  },
  {
   "cell_type": "code",
   "execution_count": 4,
   "id": "90c5c623",
   "metadata": {},
   "outputs": [],
   "source": [
    "# Drop remaining rows with NA if any\n",
    "df.dropna(inplace=True)"
   ]
  },
  {
   "cell_type": "code",
   "execution_count": 5,
   "id": "e72fd561",
   "metadata": {},
   "outputs": [
    {
     "name": "stdout",
     "output_type": "stream",
     "text": [
      "EmpID               0\n",
      "Name                0\n",
      "Age                 0\n",
      "Gender              0\n",
      "Department          0\n",
      "Salary              0\n",
      "JoiningDate         0\n",
      "PerformanceScore    0\n",
      "WorkHours           0\n",
      "dtype: int64\n"
     ]
    }
   ],
   "source": [
    "# 1. Check missing values\n",
    "print(df.isnull().sum())\n"
   ]
  },
  {
   "cell_type": "code",
   "execution_count": 6,
   "id": "cdac2147",
   "metadata": {},
   "outputs": [],
   "source": [
    "# 2. Fill numeric columns with their mean\n",
    "df.fillna(df.mean(numeric_only=True), inplace=True)"
   ]
  },
  {
   "cell_type": "code",
   "execution_count": 7,
   "id": "0ce2f2b7",
   "metadata": {},
   "outputs": [],
   "source": [
    "# 3. Drop rows if any non-numeric columns still have NaN\n",
    "df.dropna(inplace=True)"
   ]
  },
  {
   "cell_type": "code",
   "execution_count": 8,
   "id": "ef46ee3d",
   "metadata": {},
   "outputs": [
    {
     "name": "stdout",
     "output_type": "stream",
     "text": [
      "0\n"
     ]
    }
   ],
   "source": [
    "# 4. Check and remove duplicates\n",
    "print(df.duplicated().sum())\n",
    "df.drop_duplicates(inplace=True)"
   ]
  },
  {
   "cell_type": "code",
   "execution_count": 9,
   "id": "89db57f7",
   "metadata": {},
   "outputs": [
    {
     "name": "stdout",
     "output_type": "stream",
     "text": [
      "Before:\n",
      "      Name  Score\n",
      "0  Sakshi   95.0\n",
      "1  Siddhi    NaN\n",
      "2    Saee   70.0\n",
      "3   Priya    NaN\n"
     ]
    }
   ],
   "source": [
    "data = {\n",
    "    'Name': ['Sakshi', 'Siddhi', 'Saee', 'Priya'],\n",
    "    'Score': [95, None, 70, None]\n",
    "}\n",
    "\n",
    "df2 = pd.DataFrame(data)\n",
    "print(\"Before:\\n\", df2)"
   ]
  },
  {
   "cell_type": "code",
   "execution_count": 10,
   "id": "107a46d3",
   "metadata": {},
   "outputs": [
    {
     "name": "stdout",
     "output_type": "stream",
     "text": [
      "\n",
      "After Filling NaN:\n",
      "      Name  Score\n",
      "0  Sakshi   95.0\n",
      "1  Siddhi   82.5\n",
      "2    Saee   70.0\n",
      "3   Priya   82.5\n"
     ]
    }
   ],
   "source": [
    "df2['Score'].fillna(df2['Score'].mean(), inplace=True)\n",
    "print(\"\\nAfter Filling NaN:\\n\", df2)"
   ]
  },
  {
   "cell_type": "code",
   "execution_count": 11,
   "id": "b9300730",
   "metadata": {},
   "outputs": [
    {
     "name": "stdout",
     "output_type": "stream",
     "text": [
      "Address\n",
      "Asthagaon     21.0\n",
      "Karanji BK    21.0\n",
      "Loni          20.0\n",
      "Nashik        20.0\n",
      "Pune          25.0\n",
      "Name: Age, dtype: float64\n"
     ]
    }
   ],
   "source": [
    "data = {\n",
    "    'Name': ['Siddhi', 'Saee', 'Sakshi', 'Ruchika', 'Arpita'],\n",
    "    'Address': ['Karanji BK', 'Nashik', 'Asthagaon', 'Pune', 'Loni'],\n",
    "    'Age': [21, 20, 21, 25, 20]\n",
    "}\n",
    "\n",
    "df3 = pd.DataFrame(data)\n",
    "print(df3.groupby('Address')['Age'].mean())"
   ]
  },
  {
   "cell_type": "code",
   "execution_count": 12,
   "id": "5e5ff731",
   "metadata": {},
   "outputs": [
    {
     "name": "stdout",
     "output_type": "stream",
     "text": [
      "      Company  Employee  Salary  Age\n",
      "0     Infosys       Anu   76000   21\n",
      "1         TCS  Sharvari   92000   20\n",
      "2    Deloitte    Shreya   76000   23\n",
      "3       Cisco    Siddhi   40000   22\n",
      "4      Juspay    Shruti   95000   21\n",
      "5  Mastercard    Rohini   60000   20\n",
      "6         HCL      Saee   20000   22\n",
      "7   Capgemini     Rucha   72000   24\n"
     ]
    }
   ],
   "source": [
    "import pandas as pd\n",
    "\n",
    "data = {\n",
    "    'Company': ['Infosys','TCS','Deloitte','Cisco','Juspay','Mastercard','HCL','Capgemini'],\n",
    "    'Employee': ['Anu','Sharvari','Shreya','Siddhi','Shruti','Rohini','Saee','Rucha'],\n",
    "    'Salary': [76000,92000,76000,40000,95000,60000,20000,72000],\n",
    "    'Age': [21,20,23,22,21,20,22,24]\n",
    "}\n",
    "\n",
    "df = pd.DataFrame(data)\n",
    "print(df)"
   ]
  },
  {
   "cell_type": "code",
   "execution_count": 13,
   "id": "7105eac4",
   "metadata": {},
   "outputs": [
    {
     "data": {
      "text/plain": [
       "Company\n",
       "Capgemini     72000.0\n",
       "Cisco         40000.0\n",
       "Deloitte      76000.0\n",
       "HCL           20000.0\n",
       "Infosys       76000.0\n",
       "Juspay        95000.0\n",
       "Mastercard    60000.0\n",
       "TCS           92000.0\n",
       "Name: Salary, dtype: float64"
      ]
     },
     "execution_count": 13,
     "metadata": {},
     "output_type": "execute_result"
    }
   ],
   "source": [
    "df.groupby('Company')['Salary'].mean()"
   ]
  },
  {
   "cell_type": "code",
   "execution_count": 14,
   "id": "437d993b",
   "metadata": {},
   "outputs": [
    {
     "data": {
      "text/html": [
       "<div>\n",
       "<style scoped>\n",
       "    .dataframe tbody tr th:only-of-type {\n",
       "        vertical-align: middle;\n",
       "    }\n",
       "\n",
       "    .dataframe tbody tr th {\n",
       "        vertical-align: top;\n",
       "    }\n",
       "\n",
       "    .dataframe thead th {\n",
       "        text-align: right;\n",
       "    }\n",
       "</style>\n",
       "<table border=\"1\" class=\"dataframe\">\n",
       "  <thead>\n",
       "    <tr style=\"text-align: right;\">\n",
       "      <th></th>\n",
       "      <th>mean</th>\n",
       "      <th>max</th>\n",
       "      <th>min</th>\n",
       "      <th>count</th>\n",
       "    </tr>\n",
       "    <tr>\n",
       "      <th>Company</th>\n",
       "      <th></th>\n",
       "      <th></th>\n",
       "      <th></th>\n",
       "      <th></th>\n",
       "    </tr>\n",
       "  </thead>\n",
       "  <tbody>\n",
       "    <tr>\n",
       "      <th>Capgemini</th>\n",
       "      <td>72000.0</td>\n",
       "      <td>72000</td>\n",
       "      <td>72000</td>\n",
       "      <td>1</td>\n",
       "    </tr>\n",
       "    <tr>\n",
       "      <th>Cisco</th>\n",
       "      <td>40000.0</td>\n",
       "      <td>40000</td>\n",
       "      <td>40000</td>\n",
       "      <td>1</td>\n",
       "    </tr>\n",
       "    <tr>\n",
       "      <th>Deloitte</th>\n",
       "      <td>76000.0</td>\n",
       "      <td>76000</td>\n",
       "      <td>76000</td>\n",
       "      <td>1</td>\n",
       "    </tr>\n",
       "    <tr>\n",
       "      <th>HCL</th>\n",
       "      <td>20000.0</td>\n",
       "      <td>20000</td>\n",
       "      <td>20000</td>\n",
       "      <td>1</td>\n",
       "    </tr>\n",
       "    <tr>\n",
       "      <th>Infosys</th>\n",
       "      <td>76000.0</td>\n",
       "      <td>76000</td>\n",
       "      <td>76000</td>\n",
       "      <td>1</td>\n",
       "    </tr>\n",
       "    <tr>\n",
       "      <th>Juspay</th>\n",
       "      <td>95000.0</td>\n",
       "      <td>95000</td>\n",
       "      <td>95000</td>\n",
       "      <td>1</td>\n",
       "    </tr>\n",
       "    <tr>\n",
       "      <th>Mastercard</th>\n",
       "      <td>60000.0</td>\n",
       "      <td>60000</td>\n",
       "      <td>60000</td>\n",
       "      <td>1</td>\n",
       "    </tr>\n",
       "    <tr>\n",
       "      <th>TCS</th>\n",
       "      <td>92000.0</td>\n",
       "      <td>92000</td>\n",
       "      <td>92000</td>\n",
       "      <td>1</td>\n",
       "    </tr>\n",
       "  </tbody>\n",
       "</table>\n",
       "</div>"
      ],
      "text/plain": [
       "               mean    max    min  count\n",
       "Company                                 \n",
       "Capgemini   72000.0  72000  72000      1\n",
       "Cisco       40000.0  40000  40000      1\n",
       "Deloitte    76000.0  76000  76000      1\n",
       "HCL         20000.0  20000  20000      1\n",
       "Infosys     76000.0  76000  76000      1\n",
       "Juspay      95000.0  95000  95000      1\n",
       "Mastercard  60000.0  60000  60000      1\n",
       "TCS         92000.0  92000  92000      1"
      ]
     },
     "execution_count": 14,
     "metadata": {},
     "output_type": "execute_result"
    }
   ],
   "source": [
    "df.groupby('Company')['Salary'].agg(['mean','max','min','count'])"
   ]
  },
  {
   "cell_type": "code",
   "execution_count": 15,
   "id": "05ee704c",
   "metadata": {},
   "outputs": [
    {
     "data": {
      "text/plain": [
       "Company     Age\n",
       "Capgemini   24     72000.0\n",
       "Cisco       22     40000.0\n",
       "Deloitte    23     76000.0\n",
       "HCL         22     20000.0\n",
       "Infosys     21     76000.0\n",
       "Juspay      21     95000.0\n",
       "Mastercard  20     60000.0\n",
       "TCS         20     92000.0\n",
       "Name: Salary, dtype: float64"
      ]
     },
     "execution_count": 15,
     "metadata": {},
     "output_type": "execute_result"
    }
   ],
   "source": [
    "#group by multiple columns\n",
    "df.groupby(['Company','Age'])['Salary'].mean()"
   ]
  },
  {
   "cell_type": "code",
   "execution_count": 16,
   "id": "34fc4f5b",
   "metadata": {},
   "outputs": [
    {
     "data": {
      "text/plain": [
       "<Axes: ylabel='Frequency'>"
      ]
     },
     "execution_count": 16,
     "metadata": {},
     "output_type": "execute_result"
    },
    {
     "data": {
      "image/png": "[encoded data removed]",
      "text/plain": [
       "<Figure size 640x480 with 1 Axes>"
      ]
     },
     "metadata": {},
     "output_type": "display_data"
    }
   ],
   "source": [
    "df['Salary'].plot(kind='hist')     # histogram"
   ]
  },
  {
   "cell_type": "code",
   "execution_count": 17,
   "id": "685578e2",
   "metadata": {},
   "outputs": [
    {
     "data": {
      "text/plain": [
       "<Axes: xlabel='Company', ylabel='Salary'>"
      ]
     },
     "execution_count": 17,
     "metadata": {},
     "output_type": "execute_result"
    },
    {
     "data": {
      "image/png": "[encoded data removed]",
      "text/plain": [
       "<Figure size 640x480 with 1 Axes>"
      ]
     },
     "metadata": {},
     "output_type": "display_data"
    }
   ],
   "source": [
    "df.plot(x='Company', y='Salary', kind='scatter')  # scatter plot"
   ]
  },
  {
   "cell_type": "code",
   "execution_count": 18,
   "id": "42324250",
   "metadata": {},
   "outputs": [
    {
     "data": {
      "text/plain": [
       "<Axes: >"
      ]
     },
     "execution_count": 18,
     "metadata": {},
     "output_type": "execute_result"
    },
    {
     "data": {
      "image/png": "[encoded data removed]",
      "text/plain": [
       "<Figure size 640x480 with 1 Axes>"
      ]
     },
     "metadata": {},
     "output_type": "display_data"
    }
   ],
   "source": [
    "df['Salary'].plot(kind='box')      # boxplot"
   ]
  },
  {
   "cell_type": "code",
   "execution_count": 20,
   "id": "baf0a305",
   "metadata": {},
   "outputs": [
    {
     "name": "stdout",
     "output_type": "stream",
     "text": [
      "<class 'pandas.core.frame.DataFrame'>\n",
      "RangeIndex: 1000 entries, 0 to 999\n",
      "Data columns (total 9 columns):\n",
      " #   Column            Non-Null Count  Dtype  \n",
      "---  ------            --------------  -----  \n",
      " 0   EmpID             1000 non-null   int64  \n",
      " 1   Name              1000 non-null   object \n",
      " 2   Age               1000 non-null   int64  \n",
      " 3   Gender            1000 non-null   object \n",
      " 4   Department        1000 non-null   object \n",
      " 5   Salary            995 non-null    float64\n",
      " 6   JoiningDate       1000 non-null   object \n",
      " 7   PerformanceScore  823 non-null    float64\n",
      " 8   WorkHours         963 non-null    float64\n",
      "dtypes: float64(3), int64(2), object(4)\n",
      "memory usage: 70.4+ KB\n",
      "EmpID               0\n",
      "Name                0\n",
      "Age                 0\n",
      "Gender              0\n",
      "Department          0\n",
      "Salary              0\n",
      "JoiningDate         0\n",
      "PerformanceScore    0\n",
      "WorkHours           0\n",
      "dtype: int64\n"
     ]
    }
   ],
   "source": [
    "import pandas as pd\n",
    "\n",
    "# Load dataset\n",
    "df = pd.read_csv(r\"C:\\Users\\91735\\Downloads/employee_dataset.csv\")\n",
    "df.info()\n",
    "\n",
    "# Convert columns to numeric \n",
    "df['Salary'] = pd.to_numeric(df['Salary'])\n",
    "df['PerformanceScore'] = pd.to_numeric(df['PerformanceScore'])\n",
    "df['WorkHours'] = pd.to_numeric(df['WorkHours'])\n",
    "\n",
    "# Fill missing values\n",
    "df['Salary'] = df['Salary'].fillna(df['Salary'].mean())\n",
    "df['PerformanceScore'] = df['PerformanceScore'].fillna(df['PerformanceScore'].median())\n",
    "df['WorkHours'] = df['WorkHours'].fillna(df['WorkHours'].mean())\n",
    "\n",
    "# Check if missing values remain\n",
    "print(df.isnull().sum())"
   ]
  },
  {
   "cell_type": "code",
   "execution_count": null,
   "id": "2295f25f",
   "metadata": {},
   "outputs": [],
   "source": []
  }
 ],
 "metadata": {
  "kernelspec": {
   "display_name": "Python 3 (ipykernel)",
   "language": "python",
   "name": "python3"
  },
  "language_info": {
   "codemirror_mode": {
    "name": "ipython",
    "version": 3
   },
   "file_extension": ".py",
   "mimetype": "text/x-python",
   "name": "python",
   "nbconvert_exporter": "python",
   "pygments_lexer": "ipython3",
   "version": "3.11.5"
  }
 },
 "nbformat": 4,
 "nbformat_minor": 5
}
