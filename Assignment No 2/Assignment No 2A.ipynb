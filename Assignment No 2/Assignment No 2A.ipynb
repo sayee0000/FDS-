{
 "cells": [
  {
   "cell_type": "code",
   "execution_count": 1,
   "id": "ed6a4039",
   "metadata": {},
   "outputs": [],
   "source": [
    "#Name: Sayee Pradeepkumar Deshmukh\n",
    "#Roll No:- 34\n",
    "#CLass:- TY A"
   ]
  },
  {
   "cell_type": "code",
   "execution_count": 3,
   "id": "9cf72d81",
   "metadata": {},
   "outputs": [],
   "source": [
    "#import library\n",
    "import pandas as pd"
   ]
  },
  {
   "cell_type": "code",
   "execution_count": 4,
   "id": "e37039af",
   "metadata": {},
   "outputs": [
    {
     "name": "stdout",
     "output_type": "stream",
     "text": [
      "Printing whole series:-\n",
      " q    10\n",
      "w    20\n",
      "e    30\n",
      "r    40\n",
      "t    50\n",
      "dtype: int64\n",
      "\n",
      "Accessing single value in series:-\n",
      " 10\n",
      "\n",
      "Accessing multiole values in series:-\n",
      " q    10\n",
      "w    20\n",
      "e    30\n",
      "dtype: int64\n",
      "\n",
      "Series after multiplyign with 2\n",
      ":- q     20\n",
      "w     40\n",
      "e     60\n",
      "r     80\n",
      "t    100\n",
      "dtype: int64\n",
      "\n",
      "Min,Max,Avg:-\n",
      " 10 50 30.0\n",
      "\n",
      "Sum of all values in series:-\n",
      " 150\n",
      "\n",
      "Number of values in series:-\n",
      " 10    1\n",
      "20    1\n",
      "30    1\n",
      "40    1\n",
      "50    1\n",
      "Name: count, dtype: int64\n",
      "\n",
      "Type of series:-\n",
      " <class 'pandas.core.series.Series'>\n"
     ]
    }
   ],
   "source": [
    "-------------------------------------------#series in pandas--------------------------------------------------\n",
    "a=[10,20,30,40,50]\n",
    "s=pd.Series(a,['q','w','e','r','t'])\n",
    "\n",
    "#Various Operations on series\n",
    "print(\"Printing whole series:-\\n\",s)                                   #printing complete series\n",
    "print(\"\\nAccessing single value in series:-\\n\",s['q'])                 #Accessing particular value in series\n",
    "print(\"\\nAccessing multiole values in series:-\\n\",s[['q','w','e']])    #Accessing multiole values in series\n",
    "print(\"\\nSeries after multiplyign with 2\\n:-\",s*2)                     #Multiplying series with 2\n",
    "print(\"\\nMin,Max,Avg:-\\n\",s.min(),s.max(),s.mean())                    #min,max and average\n",
    "print(\"\\nSum of all values in series:-\\n\",s.sum())                     #Sum of all values in the series\n",
    "print(\"\\nNumber of values in series:-\\n\",s.value_counts())             #Frequency of values in series \n",
    "print(\"\\nType of series:-\\n\",type(s))                                  #Type of series\n",
    "\n"
   ]
  },
  {
   "cell_type": "code",
   "execution_count": 44,
   "id": "e2e8bc13",
   "metadata": {},
   "outputs": [
    {
     "name": "stdout",
     "output_type": "stream",
     "text": [
      "        Name  Age Class Place Of Birth\n",
      "0      Manav   10    SY        Andheri\n",
      "1     Puneet   13    TY         Nashik\n",
      "2      Durva   15    FY         Kalyan\n",
      "3   Sharwari   19    SY        Kothrud\n",
      "4  Aniruddha   24    TY          Warje\n",
      "\n",
      "\n",
      "0        Manav\n",
      "1       Puneet\n",
      "2        Durva\n",
      "3     Sharwari\n",
      "4    Aniruddha\n",
      "Name: Name, dtype: object\n",
      "\n",
      "\n",
      "        Name Place Of Birth\n",
      "0      Manav        Andheri\n",
      "1     Puneet         Nashik\n",
      "2      Durva         Kalyan\n",
      "3   Sharwari        Kothrud\n",
      "4  Aniruddha          Warje\n",
      "\n",
      "\n",
      "Minimum Age , Maximum Age , Average Age:-\n",
      " 10 24 16.2\n",
      "\n",
      "\n",
      "Name                Manav\n",
      "Age                    10\n",
      "Class                  SY\n",
      "Place Of Birth    Andheri\n",
      "Name: 0, dtype: object\n",
      "\n",
      "\n",
      "     Name  Age Class Place Of Birth\n",
      "0   Manav   10    SY        Andheri\n",
      "1  Puneet   13    TY         Nashik\n",
      "2   Durva   15    FY         Kalyan\n",
      "\n",
      "\n",
      "0    False\n",
      "1    False\n",
      "2    False\n",
      "3     True\n",
      "4     True\n",
      "Name: Age, dtype: bool\n",
      "\n",
      "\n",
      "        Name  Age Class Place Of Birth\n",
      "3   Sharwari   19    SY        Kothrud\n",
      "4  Aniruddha   24    TY          Warje\n",
      "\n",
      "\n",
      "       Name  Age Class Place Of Birth\n",
      "3  Sharwari   19    SY        Kothrud\n"
     ]
    }
   ],
   "source": [
    "---------------------------------------------#Sample dataset-------------------------------------------------\n",
    "data={\n",
    "    \n",
    "    'Name':['Manav','Puneet','Durva','Sharwari','Aniruddha'],\n",
    "    'Age':[10,13,15,19,24],\n",
    "    'Class':['SY','TY','FY','SY','TY'],\n",
    "    'Place Of Birth':['Andheri','Nashik','Kalyan','Kothrud','Warje']\n",
    "    \n",
    "}\n",
    "df=pd.DataFrame(data)\n",
    "\n",
    "#Various operations on dataframe\n",
    "\n",
    "print(df)  #print data frame\n",
    "print(\"\\n\")\n",
    "print(df['Name'])  #Access particular column\n",
    "print(\"\\n\")\n",
    "print(df[['Name','Place Of Birth']])  #Access multiple columns\n",
    "print(\"\\n\")\n",
    "print(\"Minimum Age , Maximum Age , Average Age:-\\n\",df['Age'].min(),df['Age'].max(),df['Age'].mean())  #minimum,maximum and average of age\n",
    "print(\"\\n\")\n",
    "print(df.iloc[0])  #Accessing first row using index\n",
    "print(\"\\n\")\n",
    "print(df.iloc[0:3])  #Accessing multiple rows\n",
    "print(\"\\n\")\n",
    "print(df['Age']>15)  #filter column\n",
    "print(\"\\n\")\n",
    "print(df.loc[df['Age']>15])  #Print Column after aplling filter\n",
    "print(\"\\n\")\n",
    "print(df.loc[(df['Age']>15)&(df['Class']=='SY')])   #apply filter on 2 columns and print"
   ]
  },
  {
   "cell_type": "code",
   "execution_count": 45,
   "id": "27ae331e",
   "metadata": {},
   "outputs": [
    {
     "data": {
      "text/html": [
       "<div>\n",
       "<style scoped>\n",
       "    .dataframe tbody tr th:only-of-type {\n",
       "        vertical-align: middle;\n",
       "    }\n",
       "\n",
       "    .dataframe tbody tr th {\n",
       "        vertical-align: top;\n",
       "    }\n",
       "\n",
       "    .dataframe thead th {\n",
       "        text-align: right;\n",
       "    }\n",
       "</style>\n",
       "<table border=\"1\" class=\"dataframe\">\n",
       "  <thead>\n",
       "    <tr style=\"text-align: right;\">\n",
       "      <th></th>\n",
       "      <th>Name</th>\n",
       "      <th>Age</th>\n",
       "      <th>Class</th>\n",
       "      <th>Place Of Birth</th>\n",
       "    </tr>\n",
       "  </thead>\n",
       "  <tbody>\n",
       "    <tr>\n",
       "      <th>0</th>\n",
       "      <td>Manav</td>\n",
       "      <td>10</td>\n",
       "      <td>SY</td>\n",
       "      <td>Andheri</td>\n",
       "    </tr>\n",
       "    <tr>\n",
       "      <th>1</th>\n",
       "      <td>Puneet</td>\n",
       "      <td>13</td>\n",
       "      <td>TY</td>\n",
       "      <td>Nashik</td>\n",
       "    </tr>\n",
       "    <tr>\n",
       "      <th>2</th>\n",
       "      <td>Durva</td>\n",
       "      <td>15</td>\n",
       "      <td>FY</td>\n",
       "      <td>Kalyan</td>\n",
       "    </tr>\n",
       "    <tr>\n",
       "      <th>3</th>\n",
       "      <td>Sharwari</td>\n",
       "      <td>19</td>\n",
       "      <td>SY</td>\n",
       "      <td>Kothrud</td>\n",
       "    </tr>\n",
       "    <tr>\n",
       "      <th>4</th>\n",
       "      <td>Aniruddha</td>\n",
       "      <td>24</td>\n",
       "      <td>TY</td>\n",
       "      <td>Warje</td>\n",
       "    </tr>\n",
       "  </tbody>\n",
       "</table>\n",
       "</div>"
      ],
      "text/plain": [
       "        Name  Age Class Place Of Birth\n",
       "0      Manav   10    SY        Andheri\n",
       "1     Puneet   13    TY         Nashik\n",
       "2      Durva   15    FY         Kalyan\n",
       "3   Sharwari   19    SY        Kothrud\n",
       "4  Aniruddha   24    TY          Warje"
      ]
     },
     "execution_count": 45,
     "metadata": {},
     "output_type": "execute_result"
    }
   ],
   "source": [
    "df.head()  #Top 5 rows in the data frame "
   ]
  },
  {
   "cell_type": "code",
   "execution_count": 46,
   "id": "1743c64a",
   "metadata": {},
   "outputs": [
    {
     "data": {
      "text/html": [
       "<div>\n",
       "<style scoped>\n",
       "    .dataframe tbody tr th:only-of-type {\n",
       "        vertical-align: middle;\n",
       "    }\n",
       "\n",
       "    .dataframe tbody tr th {\n",
       "        vertical-align: top;\n",
       "    }\n",
       "\n",
       "    .dataframe thead th {\n",
       "        text-align: right;\n",
       "    }\n",
       "</style>\n",
       "<table border=\"1\" class=\"dataframe\">\n",
       "  <thead>\n",
       "    <tr style=\"text-align: right;\">\n",
       "      <th></th>\n",
       "      <th>Name</th>\n",
       "      <th>Age</th>\n",
       "      <th>Class</th>\n",
       "      <th>Place Of Birth</th>\n",
       "    </tr>\n",
       "  </thead>\n",
       "  <tbody>\n",
       "    <tr>\n",
       "      <th>0</th>\n",
       "      <td>Manav</td>\n",
       "      <td>10</td>\n",
       "      <td>SY</td>\n",
       "      <td>Andheri</td>\n",
       "    </tr>\n",
       "    <tr>\n",
       "      <th>1</th>\n",
       "      <td>Puneet</td>\n",
       "      <td>13</td>\n",
       "      <td>TY</td>\n",
       "      <td>Nashik</td>\n",
       "    </tr>\n",
       "    <tr>\n",
       "      <th>2</th>\n",
       "      <td>Durva</td>\n",
       "      <td>15</td>\n",
       "      <td>FY</td>\n",
       "      <td>Kalyan</td>\n",
       "    </tr>\n",
       "    <tr>\n",
       "      <th>3</th>\n",
       "      <td>Sharwari</td>\n",
       "      <td>19</td>\n",
       "      <td>SY</td>\n",
       "      <td>Kothrud</td>\n",
       "    </tr>\n",
       "    <tr>\n",
       "      <th>4</th>\n",
       "      <td>Aniruddha</td>\n",
       "      <td>24</td>\n",
       "      <td>TY</td>\n",
       "      <td>Warje</td>\n",
       "    </tr>\n",
       "  </tbody>\n",
       "</table>\n",
       "</div>"
      ],
      "text/plain": [
       "        Name  Age Class Place Of Birth\n",
       "0      Manav   10    SY        Andheri\n",
       "1     Puneet   13    TY         Nashik\n",
       "2      Durva   15    FY         Kalyan\n",
       "3   Sharwari   19    SY        Kothrud\n",
       "4  Aniruddha   24    TY          Warje"
      ]
     },
     "execution_count": 46,
     "metadata": {},
     "output_type": "execute_result"
    }
   ],
   "source": [
    "df.tail()  #Last 5 rows in the data frame"
   ]
  },
  {
   "cell_type": "code",
   "execution_count": 47,
   "id": "7c319449",
   "metadata": {},
   "outputs": [
    {
     "data": {
      "text/plain": [
       "(5, 4)"
      ]
     },
     "execution_count": 47,
     "metadata": {},
     "output_type": "execute_result"
    }
   ],
   "source": [
    "df.shape   #Noe of rows and columns in the dataframe "
   ]
  },
  {
   "cell_type": "code",
   "execution_count": 48,
   "id": "7735dc8c",
   "metadata": {},
   "outputs": [
    {
     "name": "stdout",
     "output_type": "stream",
     "text": [
      "<class 'pandas.core.frame.DataFrame'>\n",
      "RangeIndex: 5 entries, 0 to 4\n",
      "Data columns (total 4 columns):\n",
      " #   Column          Non-Null Count  Dtype \n",
      "---  ------          --------------  ----- \n",
      " 0   Name            5 non-null      object\n",
      " 1   Age             5 non-null      int64 \n",
      " 2   Class           5 non-null      object\n",
      " 3   Place Of Birth  5 non-null      object\n",
      "dtypes: int64(1), object(3)\n",
      "memory usage: 292.0+ bytes\n"
     ]
    }
   ],
   "source": [
    "df.info()"
   ]
  },
  {
   "cell_type": "code",
   "execution_count": 49,
   "id": "d3f999ee",
   "metadata": {},
   "outputs": [
    {
     "data": {
      "text/plain": [
       "Name              object\n",
       "Age                int64\n",
       "Class             object\n",
       "Place Of Birth    object\n",
       "dtype: object"
      ]
     },
     "execution_count": 49,
     "metadata": {},
     "output_type": "execute_result"
    }
   ],
   "source": [
    "df.dtypes  #Datatype of all the columns"
   ]
  },
  {
   "cell_type": "code",
   "execution_count": 50,
   "id": "e74f2427",
   "metadata": {},
   "outputs": [
    {
     "data": {
      "text/html": [
       "<div>\n",
       "<style scoped>\n",
       "    .dataframe tbody tr th:only-of-type {\n",
       "        vertical-align: middle;\n",
       "    }\n",
       "\n",
       "    .dataframe tbody tr th {\n",
       "        vertical-align: top;\n",
       "    }\n",
       "\n",
       "    .dataframe thead th {\n",
       "        text-align: right;\n",
       "    }\n",
       "</style>\n",
       "<table border=\"1\" class=\"dataframe\">\n",
       "  <thead>\n",
       "    <tr style=\"text-align: right;\">\n",
       "      <th></th>\n",
       "      <th>Age</th>\n",
       "    </tr>\n",
       "  </thead>\n",
       "  <tbody>\n",
       "    <tr>\n",
       "      <th>count</th>\n",
       "      <td>5.000000</td>\n",
       "    </tr>\n",
       "    <tr>\n",
       "      <th>mean</th>\n",
       "      <td>16.200000</td>\n",
       "    </tr>\n",
       "    <tr>\n",
       "      <th>std</th>\n",
       "      <td>5.449771</td>\n",
       "    </tr>\n",
       "    <tr>\n",
       "      <th>min</th>\n",
       "      <td>10.000000</td>\n",
       "    </tr>\n",
       "    <tr>\n",
       "      <th>25%</th>\n",
       "      <td>13.000000</td>\n",
       "    </tr>\n",
       "    <tr>\n",
       "      <th>50%</th>\n",
       "      <td>15.000000</td>\n",
       "    </tr>\n",
       "    <tr>\n",
       "      <th>75%</th>\n",
       "      <td>19.000000</td>\n",
       "    </tr>\n",
       "    <tr>\n",
       "      <th>max</th>\n",
       "      <td>24.000000</td>\n",
       "    </tr>\n",
       "  </tbody>\n",
       "</table>\n",
       "</div>"
      ],
      "text/plain": [
       "             Age\n",
       "count   5.000000\n",
       "mean   16.200000\n",
       "std     5.449771\n",
       "min    10.000000\n",
       "25%    13.000000\n",
       "50%    15.000000\n",
       "75%    19.000000\n",
       "max    24.000000"
      ]
     },
     "execution_count": 50,
     "metadata": {},
     "output_type": "execute_result"
    }
   ],
   "source": [
    "df.describe()  #gives min,max.mean of the dataframe"
   ]
  },
  {
   "cell_type": "code",
   "execution_count": null,
   "id": "5fba6650",
   "metadata": {},
   "outputs": [],
   "source": [
    "------------------------------------#Dataset from kaggle - Diabetes datset-----------------------------------------\n",
    "d=pd"
   ]
  },
  {
   "cell_type": "code",
   "execution_count": null,
   "id": "69dfec03",
   "metadata": {},
   "outputs": [],
   "source": []
  },
  {
   "cell_type": "code",
   "execution_count": null,
   "id": "a7caddf0",
   "metadata": {},
   "outputs": [],
   "source": []
  },
  {
   "cell_type": "code",
   "execution_count": null,
   "id": "26961af2",
   "metadata": {},
   "outputs": [],
   "source": []
  },
  {
   "cell_type": "code",
   "execution_count": null,
   "id": "8a7a2ac0",
   "metadata": {},
   "outputs": [],
   "source": []
  },
  {
   "cell_type": "code",
   "execution_count": null,
   "id": "1551a45c",
   "metadata": {},
   "outputs": [],
   "source": []
  },
  {
   "cell_type": "code",
   "execution_count": null,
   "id": "ad1fef27",
   "metadata": {},
   "outputs": [],
   "source": []
  },
  {
   "cell_type": "code",
   "execution_count": null,
   "id": "ccf7b433",
   "metadata": {},
   "outputs": [],
   "source": []
  },
  {
   "cell_type": "code",
   "execution_count": null,
   "id": "26cf9580",
   "metadata": {},
   "outputs": [],
   "source": []
  },
  {
   "cell_type": "code",
   "execution_count": null,
   "id": "55f968d8",
   "metadata": {},
   "outputs": [],
   "source": []
  }
 ],
 "metadata": {
  "kernelspec": {
   "display_name": "Python 3 (ipykernel)",
   "language": "python",
   "name": "python3"
  },
  "language_info": {
   "codemirror_mode": {
    "name": "ipython",
    "version": 3
   },
   "file_extension": ".py",
   "mimetype": "text/x-python",
   "name": "python",
   "nbconvert_exporter": "python",
   "pygments_lexer": "ipython3",
   "version": "3.11.5"
  }
 },
 "nbformat": 4,
 "nbformat_minor": 5
}
